{
 "cells": [
  {
   "cell_type": "code",
   "execution_count": 1,
   "id": "8d2c8c58",
   "metadata": {},
   "outputs": [],
   "source": [
    "import matplotlib.pyplot as plt\n",
    "import numpy as np\n",
    "import tensorflow as tf\n",
    "import cv2\n",
    "import os\n",
    "import random\n",
    "from tensorflow import keras\n",
    "from sklearn.model_selection import train_test_split\n",
    "import pandas as pd\n",
    "import pickle\n",
    "from keras.utils import normalize\n",
    "import matplotlib.pyplot as plt\n",
    "from PIL import Image"
   ]
  },
  {
   "cell_type": "code",
   "execution_count": 2,
   "id": "c8051daf",
   "metadata": {
    "scrolled": true
   },
   "outputs": [],
   "source": [
    "directory='dataset/'\n",
    "f=['Not_Tree_Images' , 'Tree_Images']"
   ]
  },
  {
   "cell_type": "code",
   "execution_count": 3,
   "id": "cce452fc",
   "metadata": {},
   "outputs": [],
   "source": [
    "data=[]\n",
    "for i in f:\n",
    "    folder=os.path.join(directory , i)\n",
    "    ans=f.index(i)\n",
    "    for image in os.listdir(folder):\n",
    "        image_path=os.path.join(folder , image)\n",
    "        dataset=cv2.imread(image_path)\n",
    "        dataset=cv2.resize(dataset,(250,150))\n",
    "        data.append([dataset,ans])\n",
    "        \n",
    "   "
   ]
  },
  {
   "cell_type": "code",
   "execution_count": 4,
   "id": "3dab44e6",
   "metadata": {},
   "outputs": [],
   "source": [
    "random.shuffle(data);"
   ]
  },
  {
   "cell_type": "code",
   "execution_count": 5,
   "id": "3eedaaf0",
   "metadata": {},
   "outputs": [],
   "source": [
    "dataset=[]\n",
    "labels=[]\n",
    "for x , y in data:\n",
    "    dataset.append(x)\n",
    "    labels.append(y)"
   ]
  },
  {
   "cell_type": "code",
   "execution_count": 6,
   "id": "db750e01",
   "metadata": {},
   "outputs": [],
   "source": [
    "dataset=np.array(dataset)\n",
    "labels=np.array(labels)"
   ]
  },
  {
   "cell_type": "code",
   "execution_count": 9,
   "id": "b6d83d6f",
   "metadata": {},
   "outputs": [
    {
     "name": "stdout",
     "output_type": "stream",
     "text": [
      "1000\n"
     ]
    },
    {
     "data": {
      "text/plain": [
       "1000"
      ]
     },
     "execution_count": 9,
     "metadata": {},
     "output_type": "execute_result"
    }
   ],
   "source": [
    "print(len(labels))\n",
    "len(dataset)\n"
   ]
  },
  {
   "cell_type": "code",
   "execution_count": null,
   "id": "c4ccde7f",
   "metadata": {},
   "outputs": [],
   "source": []
  }
 ],
 "metadata": {
  "kernelspec": {
   "display_name": "Python 3 (ipykernel)",
   "language": "python",
   "name": "python3"
  },
  "language_info": {
   "codemirror_mode": {
    "name": "ipython",
    "version": 3
   },
   "file_extension": ".py",
   "mimetype": "text/x-python",
   "name": "python",
   "nbconvert_exporter": "python",
   "pygments_lexer": "ipython3",
   "version": "3.10.7"
  }
 },
 "nbformat": 4,
 "nbformat_minor": 5
}
