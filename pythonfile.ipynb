{
 "cells": [
  {
   "cell_type": "code",
   "execution_count": 1,
   "id": "7d0ef8e3",
   "metadata": {},
   "outputs": [],
   "source": [
    "import matplotlib.pyplot as plt\n",
    "import numpy as np\n",
    "import tensorflow as tf\n",
    "import cv2\n",
    "import os\n",
    "import random\n",
    "from tensorflow import keras\n",
    "from sklearn.model_selection import train_test_split\n",
    "import pandas as pd\n",
    "import pickle\n",
    "from keras.utils import normalize\n",
    "import matplotlib.pyplot as plt\n",
    "from PIL import Image\n",
    "from keras.models import Sequential\n",
    "from keras.layers import Conv2D , MaxPooling2D\n",
    "from keras.layers import Activation , Dropout , Flatten , Dense"
   ]
  },
  {
   "cell_type": "code",
   "execution_count": 2,
   "id": "21b0884b",
   "metadata": {
    "scrolled": true
   },
   "outputs": [],
   "source": [
    "directory='dataset/'\n",
    "f=['Not_Tree_Images' , 'Tree_Images']"
   ]
  },
  {
   "cell_type": "code",
   "execution_count": 3,
   "id": "de9e047e",
   "metadata": {},
   "outputs": [],
   "source": [
    "data=[]\n",
    "for i in f:\n",
    "    folder=os.path.join(directory , i)\n",
    "    ans=f.index(i)\n",
    "    for image in os.listdir(folder):\n",
    "        image_path=os.path.join(folder , image)\n",
    "        dataset=cv2.imread(image_path)\n",
    "        dataset=cv2.resize(dataset,(150,150))\n",
    "        data.append([dataset,ans])\n",
    "        \n",
    "   "
   ]
  },
  {
   "cell_type": "code",
   "execution_count": 4,
   "id": "a7c755e0",
   "metadata": {},
   "outputs": [],
   "source": [
    "random.shuffle(data);"
   ]
  },
  {
   "cell_type": "code",
   "execution_count": 5,
   "id": "007008d8",
   "metadata": {},
   "outputs": [],
   "source": [
    "dataset=[]\n",
    "labels=[]\n",
    "for x , y in data:\n",
    "    dataset.append(x)\n",
    "    labels.append(y)"
   ]
  },
  {
   "cell_type": "code",
   "execution_count": null,
   "id": "3952d0f0",
   "metadata": {},
   "outputs": [],
   "source": []
  },
  {
   "cell_type": "code",
   "execution_count": 6,
   "id": "3b56c974",
   "metadata": {},
   "outputs": [],
   "source": [
    "dataset=np.array(dataset)\n",
    "labels=np.array(labels)\n"
   ]
  },
  {
   "cell_type": "code",
   "execution_count": 7,
   "id": "e5094db8",
   "metadata": {},
   "outputs": [],
   "source": [
    "dataset=dataset/255\n"
   ]
  },
  {
   "cell_type": "code",
   "execution_count": 8,
   "id": "d66463e5",
   "metadata": {},
   "outputs": [],
   "source": [
    "traindata ,testdata , trainlabel  , testlabel = train_test_split( dataset , labels , test_size=0.2 , random_state=0)"
   ]
  },
  {
   "cell_type": "code",
   "execution_count": 9,
   "id": "592c26d1",
   "metadata": {},
   "outputs": [],
   "source": [
    "traindata=normalize(traindata , axis=1 )\n",
    "testdata=normalize(testdata , axis=1)\n"
   ]
  },
  {
   "cell_type": "markdown",
   "id": "6132e931",
   "metadata": {},
   "source": [
    "# model 1 \n"
   ]
  },
  {
   "cell_type": "code",
   "execution_count": 13,
   "id": "f13d1cbf",
   "metadata": {},
   "outputs": [],
   "source": [
    "model=Sequential()\n",
    "model.add(Conv2D(32 , (3,3),input_shape=(150,150,3)))\n",
    "model.add(Activation('relu'))\n",
    "model.add(MaxPooling2D(pool_size=(2,2)))\n",
    "model.add(Conv2D(32 , (3,3),kernel_initializer='he_uniform'))\n",
    "model.add(Activation('relu'))\n",
    "model.add(MaxPooling2D(pool_size=(2,2)))\n",
    "model.add(Conv2D(150 , (3,3),kernel_initializer='he_uniform'))\n",
    "model.add(Activation('relu'))\n",
    "model.add(MaxPooling2D(pool_size=(2,2)))\n",
    "model.add(Flatten())\n",
    "model.add(Dense(150))\n",
    "model.add(Activation('relu'))\n",
    "model.add(Dropout(0.5))\n",
    "model.add(Dense(1))\n",
    "model.add(Activation('sigmoid'))"
   ]
  },
  {
   "cell_type": "code",
   "execution_count": null,
   "id": "fdd153ce",
   "metadata": {},
   "outputs": [],
   "source": []
  },
  {
   "cell_type": "code",
   "execution_count": null,
   "id": "3538025e",
   "metadata": {},
   "outputs": [],
   "source": []
  },
  {
   "cell_type": "code",
   "execution_count": 14,
   "id": "fafb1bb1",
   "metadata": {},
   "outputs": [],
   "source": [
    "model.compile(loss='binary_crossentropy' , optimizer='adam' , metrics=['accuracy'])"
   ]
  },
  {
   "cell_type": "code",
   "execution_count": 16,
   "id": "292ee328",
   "metadata": {
    "scrolled": true
   },
   "outputs": [
    {
     "name": "stdout",
     "output_type": "stream",
     "text": [
      "Epoch 1/10\n",
      "50/50 [==============================] - 11s 224ms/step - loss: 0.0024 - accuracy: 1.0000\n",
      "Epoch 2/10\n",
      "50/50 [==============================] - 11s 217ms/step - loss: 0.0019 - accuracy: 1.0000\n",
      "Epoch 3/10\n",
      "50/50 [==============================] - 11s 217ms/step - loss: 0.0211 - accuracy: 0.9912\n",
      "Epoch 4/10\n",
      "50/50 [==============================] - 11s 218ms/step - loss: 0.0048 - accuracy: 0.9987\n",
      "Epoch 5/10\n",
      "50/50 [==============================] - 11s 218ms/step - loss: 0.0039 - accuracy: 0.9987\n",
      "Epoch 6/10\n",
      "50/50 [==============================] - 11s 223ms/step - loss: 0.0027 - accuracy: 1.0000\n",
      "Epoch 7/10\n",
      "50/50 [==============================] - 11s 221ms/step - loss: 8.5535e-04 - accuracy: 1.0000\n",
      "Epoch 8/10\n",
      "50/50 [==============================] - 11s 223ms/step - loss: 0.0011 - accuracy: 1.0000\n",
      "Epoch 9/10\n",
      "50/50 [==============================] - 11s 224ms/step - loss: 0.0036 - accuracy: 0.9987\n",
      "Epoch 10/10\n",
      "50/50 [==============================] - 11s 218ms/step - loss: 0.0161 - accuracy: 0.9937\n"
     ]
    },
    {
     "data": {
      "text/plain": [
       "<keras.callbacks.History at 0x251fd4865c0>"
      ]
     },
     "execution_count": 16,
     "metadata": {},
     "output_type": "execute_result"
    }
   ],
   "source": [
    "model.fit(traindata , trainlabel , batch_size=16 , verbose=1 , epochs=10 ,  shuffle=False)"
   ]
  },
  {
   "cell_type": "code",
   "execution_count": 20,
   "id": "50895656",
   "metadata": {},
   "outputs": [
    {
     "name": "stdout",
     "output_type": "stream",
     "text": [
      "7/7 [==============================] - 1s 82ms/step - loss: 0.1345 - accuracy: 0.9700\n"
     ]
    },
    {
     "data": {
      "text/plain": [
       "[0.1344756782054901, 0.9700000286102295]"
      ]
     },
     "execution_count": 20,
     "metadata": {},
     "output_type": "execute_result"
    }
   ],
   "source": [
    "model.evaluate(testdata,testlabel)"
   ]
  },
  {
   "cell_type": "code",
   "execution_count": 44,
   "id": "36cb6ca7",
   "metadata": {},
   "outputs": [
    {
     "name": "stdout",
     "output_type": "stream",
     "text": [
      "1/1 [==============================] - 0s 16ms/step\n",
      "0\n"
     ]
    },
    {
     "data": {
      "image/png": "[encoded data removed]",
      "text/plain": [
       "<Figure size 640x480 with 1 Axes>"
      ]
     },
     "metadata": {},
     "output_type": "display_data"
    }
   ],
   "source": [
    "image=cv2.imread('C:\\\\Users\\\\vkhat\\\\Desktop\\\\AI hackathon ML\\\\dataset\\\\Not_Tree_Images\\\\HAR_AJ_534.png')\n",
    "#image=cv2.imread('C:\\\\Users\\\\vkhat\\\\Desktop\\\\AI hackathon ML\\\\dataset\\\\Tree_Images\\\\FJI_AP_807.png')\n",
    "img=Image.fromarray(image)\n",
    "img=img.resize((150,150))\n",
    "plt.imshow(img)\n",
    "img=np.array(img)\n",
    "i_img=np.expand_dims(img,axis=0)\n",
    "result=model.predict(i_img)\n",
    "classes_x=np.argmax(result,axis=1)\n",
    "print(int(result))"
   ]
  },
  {
   "cell_type": "code",
   "execution_count": null,
   "id": "1630aedc",
   "metadata": {},
   "outputs": [],
   "source": []
  }
 ],
 "metadata": {
  "kernelspec": {
   "display_name": "Python 3 (ipykernel)",
   "language": "python",
   "name": "python3"
  },
  "language_info": {
   "codemirror_mode": {
    "name": "ipython",
    "version": 3
   },
   "file_extension": ".py",
   "mimetype": "text/x-python",
   "name": "python",
   "nbconvert_exporter": "python",
   "pygments_lexer": "ipython3",
   "version": "3.10.7"
  }
 },
 "nbformat": 4,
 "nbformat_minor": 5
}
