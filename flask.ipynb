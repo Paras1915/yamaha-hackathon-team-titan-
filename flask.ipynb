{
 "cells": [
  {
   "cell_type": "code",
   "execution_count": 4,
   "id": "ff5ec617",
   "metadata": {},
   "outputs": [],
   "source": [
    "from flask import Flask , render_template , request\n",
    "from keras.models import load_model\n",
    "from keras.preprocessing import image"
   ]
  },
  {
   "cell_type": "code",
   "execution_count": 5,
   "id": "54b9c3cb",
   "metadata": {},
   "outputs": [],
   "source": [
    "app=Flask(__name__)"
   ]
  },
  {
   "cell_type": "code",
   "execution_count": 7,
   "id": "12de460f",
   "metadata": {},
   "outputs": [],
   "source": [
    "dic={0:'notree' , 1:'tree'}"
   ]
  },
  {
   "cell_type": "code",
   "execution_count": 8,
   "id": "2862ca55",
   "metadata": {},
   "outputs": [],
   "source": [
    "model=load_model('modelm3')"
   ]
  },
  {
   "cell_type": "code",
   "execution_count": 10,
   "id": "f3b9ef10",
   "metadata": {},
   "outputs": [],
   "source": [
    "model.make_predict_function()\n",
    "\n",
    "def predict_label(image_path):\n",
    "    i=image.load_img(image_path , target_size=(150,150))\n",
    "    i=image.img_to_array(i)/255.0\n",
    "    i=i.reshape(1,100,100,3)\n",
    "    p=model.predict_classes(i)\n",
    "    return dic[p[0]]"
   ]
  },
  {
   "cell_type": "code",
   "execution_count": 11,
   "id": "eda7fbea",
   "metadata": {},
   "outputs": [],
   "source": [
    "@app.route(\"/\" , methods=['GET' , 'POST'])\n",
    "def main():\n",
    "    return render_template(\"tnt.html\")\n",
    "\n"
   ]
  },
  {
   "cell_type": "code",
   "execution_count": 15,
   "id": "7636b59a",
   "metadata": {},
   "outputs": [
    {
     "name": "stdout",
     "output_type": "stream",
     "text": [
      " * Serving Flask app '__main__'\n",
      " * Debug mode: on\n"
     ]
    },
    {
     "name": "stderr",
     "output_type": "stream",
     "text": [
      "WARNING: This is a development server. Do not use it in a production deployment. Use a production WSGI server instead.\n",
      " * Running on http://127.0.0.1:5000\n",
      "Press CTRL+C to quit\n",
      " * Restarting with stat\n"
     ]
    },
    {
     "ename": "SystemExit",
     "evalue": "1",
     "output_type": "error",
     "traceback": [
      "An exception has occurred, use %tb to see the full traceback.\n",
      "\u001b[1;31mSystemExit\u001b[0m\u001b[1;31m:\u001b[0m 1\n"
     ]
    },
    {
     "name": "stderr",
     "output_type": "stream",
     "text": [
      "C:\\Users\\vkhat\\AppData\\Local\\Programs\\Python\\Python310\\lib\\site-packages\\IPython\\core\\interactiveshell.py:3386: UserWarning: To exit: use 'exit', 'quit', or Ctrl-D.\n",
      "  warn(\"To exit: use 'exit', 'quit', or Ctrl-D.\", stacklevel=1)\n"
     ]
    }
   ],
   "source": [
    "@app.route(\"/submit\" , methods=['GET' , 'POST'])\n",
    "def findans():\n",
    "    if request.method=='POST':\n",
    "        img=request.files['my_image']\n",
    "        img_path=\"static/\"+img.filename\n",
    "        img.save(img_path)\n",
    "        \n",
    "        p=predict_label(img_path)\n",
    "        return render_template(\"tnt.html\" , prediction=p , img_path=img_path)\n",
    "    \n",
    "if __name__=='__main__':\n",
    "    app.run(debug=True)\n",
    "\n"
   ]
  },
  {
   "cell_type": "code",
   "execution_count": null,
   "id": "efb43b5b",
   "metadata": {},
   "outputs": [],
   "source": []
  }
 ],
 "metadata": {
  "kernelspec": {
   "display_name": "Python 3 (ipykernel)",
   "language": "python",
   "name": "python3"
  },
  "language_info": {
   "codemirror_mode": {
    "name": "ipython",
    "version": 3
   },
   "file_extension": ".py",
   "mimetype": "text/x-python",
   "name": "python",
   "nbconvert_exporter": "python",
   "pygments_lexer": "ipython3",
   "version": "3.10.7"
  }
 },
 "nbformat": 4,
 "nbformat_minor": 5
}
